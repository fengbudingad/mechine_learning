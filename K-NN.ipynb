{
 "cells": [
  {
   "cell_type": "code",
   "execution_count": 8,
   "metadata": {},
   "outputs": [],
   "source": [
    "import numpy as np\n",
    "from collections import Counter \n",
    "import random\n",
    "import matplotlib.pyplot as plt\n",
    "from sklearn import datasets\n",
    "from sklearn.utils import shuffle\n",
    "plt.rcParams['figure.figsize']=(10.0,8.0)\n",
    "plt.rcParams['image.interpolation']='nearest'\n",
    "plt.rcParams['image.cmap']='gray'"
   ]
  },
  {
   "cell_type": "code",
   "execution_count": 9,
   "metadata": {},
   "outputs": [
    {
     "name": "stdout",
     "output_type": "stream",
     "text": [
      "X_train= (105, 4)\n",
      "X_test= (45, 4)\n",
      "y_train= (105, 1)\n",
      "y_test= (45, 1)\n"
     ]
    }
   ],
   "source": [
    "iris=datasets.load_iris()\n",
    "X,y=shuffle(iris.data,iris.target,random_state=13)\n",
    "X=X.astype(np.float32)\n",
    "offset=int(X.shape[0]*0.7)\n",
    "X_train,y_train=X[:offset],y[:offset]\n",
    "X_test,y_test=X[offset:],y[offset:]\n",
    "y_train=y_train.reshape((-1,1))\n",
    "y_test=y_test.reshape((-1,1))\n",
    "\n",
    "print('X_train=',X_train.shape)\n",
    "print('X_test=',X_test.shape)\n",
    "print('y_train=',y_train.shape)\n",
    "print('y_test=',y_test.shape)"
   ]
  },
  {
   "cell_type": "code",
   "execution_count": 10,
   "metadata": {},
   "outputs": [],
   "source": [
    "def compute_distances(X):\n",
    "    num_test=X.shape[0]\n",
    "    num_train=X_train.shape[0]\n",
    "    dists=np.zeros((num_test,num_train))\n",
    "    \n",
    "    M=np.dot(X,X_train.T)\n",
    "    te=np.square(X).sum(axis=1)\n",
    "    tr=np.square(X_train).sum(axis=1)\n",
    "    #使用广播机制相加\n",
    "    dists=np.sqrt(-2*M+tr+np.matrix(te).T)\n",
    "    return dists"
   ]
  },
  {
   "cell_type": "code",
   "execution_count": 12,
   "metadata": {},
   "outputs": [
    {
     "name": "stdout",
     "output_type": "stream",
     "text": [
      "(45, 105)\n"
     ]
    },
    {
     "data": {
      "image/png": "[encoded data removed]",
      "text/plain": [
       "<Figure size 720x576 with 1 Axes>"
      ]
     },
     "metadata": {
      "needs_background": "light"
     },
     "output_type": "display_data"
    }
   ],
   "source": [
    "dists=compute_distances(X_test)\n",
    "print(dists.shape)\n",
    "plt.imshow(dists)\n",
    "plt.show()"
   ]
  },
  {
   "cell_type": "code",
   "execution_count": 35,
   "metadata": {},
   "outputs": [],
   "source": [
    "def predict_labels(dists,k=1):\n",
    "    num_test=dists.shape[0]\n",
    "    y_pred=np.zeros(num_test)\n",
    "    for i in range(num_test):\n",
    "        closest_y=[]\n",
    "        #argsort()函数将数组的值从小到大排序后按照其对应的索引值输出\n",
    "        labels=y_train[np.argsort(dists[i,:])].flatten()\n",
    "        closest_y=labels[0:k]\n",
    "        \n",
    "        c=Counter(closest_y)\n",
    "        y_pred[i]=c.most_common(1)[0][0]\n",
    "    \n",
    "    return y_pred"
   ]
  },
  {
   "cell_type": "code",
   "execution_count": 36,
   "metadata": {},
   "outputs": [
    {
     "name": "stdout",
     "output_type": "stream",
     "text": [
      "accuracy: 0.9777777777777777\n"
     ]
    }
   ],
   "source": [
    "y_test_pred=predict_labels(dists,k=1)\n",
    "y_test_pred=y_test_pred.reshape((-1,1))\n",
    "num_correct=np.sum(y_test_pred==y_test)\n",
    "accuracy=float(num_correct)/X_test.shape[0]\n",
    "print(\"accuracy:\",accuracy)"
   ]
  },
  {
   "cell_type": "code",
   "execution_count": 39,
   "metadata": {},
   "outputs": [
    {
     "name": "stdout",
     "output_type": "stream",
     "text": [
      "k=2,accuracy=1.000000\n",
      "k=2,accuracy=1.000000\n",
      "k=2,accuracy=1.000000\n",
      "k=2,accuracy=1.000000\n",
      "k=2,accuracy=1.000000\n",
      "k=3,accuracy=1.000000\n",
      "k=3,accuracy=1.000000\n",
      "k=3,accuracy=0.952381\n",
      "k=3,accuracy=0.857143\n",
      "k=3,accuracy=0.952381\n",
      "k=5,accuracy=1.000000\n",
      "k=5,accuracy=1.000000\n",
      "k=5,accuracy=0.952381\n",
      "k=5,accuracy=0.904762\n",
      "k=5,accuracy=0.952381\n",
      "k=8,accuracy=1.000000\n",
      "k=8,accuracy=1.000000\n",
      "k=8,accuracy=1.000000\n",
      "k=8,accuracy=0.904762\n",
      "k=8,accuracy=1.000000\n",
      "k=10,accuracy=1.000000\n",
      "k=10,accuracy=1.000000\n",
      "k=10,accuracy=1.000000\n",
      "k=10,accuracy=0.904762\n",
      "k=10,accuracy=1.000000\n",
      "k=12,accuracy=1.000000\n",
      "k=12,accuracy=1.000000\n",
      "k=12,accuracy=1.000000\n",
      "k=12,accuracy=0.904762\n",
      "k=12,accuracy=1.000000\n",
      "k=15,accuracy=1.000000\n",
      "k=15,accuracy=1.000000\n",
      "k=15,accuracy=0.952381\n",
      "k=15,accuracy=0.904762\n",
      "k=15,accuracy=1.000000\n",
      "k=20,accuracy=1.000000\n",
      "k=20,accuracy=1.000000\n",
      "k=20,accuracy=1.000000\n",
      "k=20,accuracy=0.904762\n",
      "k=20,accuracy=0.952381\n",
      "k=50,accuracy=1.000000\n",
      "k=50,accuracy=1.000000\n",
      "k=50,accuracy=1.000000\n",
      "k=50,accuracy=0.761905\n",
      "k=50,accuracy=1.000000\n",
      "k=100,accuracy=0.714286\n",
      "k=100,accuracy=0.761905\n",
      "k=100,accuracy=0.666667\n",
      "k=100,accuracy=0.666667\n",
      "k=100,accuracy=0.619048\n"
     ]
    },
    {
     "name": "stderr",
     "output_type": "stream",
     "text": [
      "E:\\Anaconda3\\lib\\site-packages\\ipykernel_launcher.py:9: RuntimeWarning: invalid value encountered in sqrt\n",
      "  if __name__ == '__main__':\n"
     ]
    }
   ],
   "source": [
    "num_folds=5\n",
    "k_choices=[2,3,5,8,10,12,15,20,50,100]\n",
    "\n",
    "X_train_folds=[]\n",
    "y_train_folds=[]\n",
    "\n",
    "X_train_folds=np.array_split(X_train,num_folds)\n",
    "y_train_folds=np.array_split(y_train,num_folds)\n",
    "k_accuracies={}\n",
    "for k in k_choices:\n",
    "    for fold in range(num_folds):\n",
    "        validation_X_test=X_train_folds[fold]\n",
    "        validation_y_test=y_train_folds[fold]\n",
    "        temp_X_train=np.concatenate(X_train_folds[:fold]+X_train_folds[fold+1:])\n",
    "        temp_y_test=np.concatenate(y_train_folds[:fold]+y_train_folds[fold+1:])\n",
    "        \n",
    "        temp_dists=compute_distances(validation_X_test)\n",
    "        temp_y_test_pred=predict_labels(temp_dists,k=k)\n",
    "        temp_y_test_pred=temp_y_test_pred.reshape((-1,1))\n",
    "        \n",
    "        num_correct=np.sum(temp_y_test_pred==validation_y_test)\n",
    "        num_test=validation_X_test.shape[0]\n",
    "        accuracy=float(num_correct)/num_test\n",
    "        k_accuracies[k]=k_accuracies.get(k,[])+[accuracy]\n",
    "        \n",
    "for k in sorted(k_accuracies):\n",
    "    for accuracy in k_accuracies[k]:\n",
    "        print('k=%d,accuracy=%f'%(k,accuracy))"
   ]
  },
  {
   "cell_type": "code",
   "execution_count": 41,
   "metadata": {},
   "outputs": [
    {
     "name": "stdout",
     "output_type": "stream",
     "text": [
      "最佳k值为： 2\n"
     ]
    },
    {
     "data": {
      "image/png": "[encoded data removed]",
      "text/plain": [
       "<Figure size 720x576 with 1 Axes>"
      ]
     },
     "metadata": {
      "needs_background": "light"
     },
     "output_type": "display_data"
    }
   ],
   "source": [
    "for k in k_choices:\n",
    "    accuracies=k_accuracies[k]\n",
    "    plt.scatter([k]*len(accuracies),accuracies)\n",
    "    \n",
    "accuracies_mean=np.array([np.mean(v) for k,v in sorted(k_accuracies.items())])\n",
    "accuracies_std=np.array([np.std(v) for k,v in sorted(k_accuracies.items())])\n",
    "best_k=k_choices[np.argmax(accuracies_mean)]\n",
    "print('最佳k值为：',best_k)\n",
    "plt.errorbar(k_choices,accuracies_mean,yerr=accuracies_std)\n",
    "plt.title('cross_validation on k')\n",
    "plt.xlabel('k')\n",
    "plt.ylabel('cross_validation accuracy')\n",
    "plt.show()"
   ]
  },
  {
   "cell_type": "code",
   "execution_count": 2,
   "metadata": {},
   "outputs": [
    {
     "name": "stdout",
     "output_type": "stream",
     "text": [
      "k = 1, accuracy = 0.904762\n",
      "k = 1, accuracy = 1.000000\n",
      "k = 1, accuracy = 0.952381\n",
      "k = 1, accuracy = 0.857143\n",
      "k = 1, accuracy = 0.952381\n",
      "k = 3, accuracy = 0.857143\n",
      "k = 3, accuracy = 1.000000\n",
      "k = 3, accuracy = 0.952381\n",
      "k = 3, accuracy = 0.857143\n",
      "k = 3, accuracy = 0.952381\n",
      "k = 5, accuracy = 0.857143\n",
      "k = 5, accuracy = 1.000000\n",
      "k = 5, accuracy = 0.952381\n",
      "k = 5, accuracy = 0.904762\n",
      "k = 5, accuracy = 0.952381\n",
      "k = 8, accuracy = 0.904762\n",
      "k = 8, accuracy = 1.000000\n",
      "k = 8, accuracy = 0.952381\n",
      "k = 8, accuracy = 0.904762\n",
      "k = 8, accuracy = 0.952381\n",
      "k = 10, accuracy = 0.952381\n",
      "k = 10, accuracy = 1.000000\n",
      "k = 10, accuracy = 0.952381\n",
      "k = 10, accuracy = 0.904762\n",
      "k = 10, accuracy = 0.952381\n",
      "k = 12, accuracy = 0.952381\n",
      "k = 12, accuracy = 1.000000\n",
      "k = 12, accuracy = 0.952381\n",
      "k = 12, accuracy = 0.857143\n",
      "k = 12, accuracy = 0.952381\n",
      "k = 15, accuracy = 0.952381\n",
      "k = 15, accuracy = 1.000000\n",
      "k = 15, accuracy = 0.952381\n",
      "k = 15, accuracy = 0.857143\n",
      "k = 15, accuracy = 0.952381\n",
      "k = 20, accuracy = 0.952381\n",
      "k = 20, accuracy = 1.000000\n",
      "k = 20, accuracy = 0.952381\n",
      "k = 20, accuracy = 0.761905\n",
      "k = 20, accuracy = 0.952381\n",
      "k = 50, accuracy = 1.000000\n",
      "k = 50, accuracy = 1.000000\n",
      "k = 50, accuracy = 0.904762\n",
      "k = 50, accuracy = 0.761905\n",
      "k = 50, accuracy = 0.904762\n",
      "k = 100, accuracy = 0.285714\n",
      "k = 100, accuracy = 0.380952\n",
      "k = 100, accuracy = 0.333333\n",
      "k = 100, accuracy = 0.238095\n",
      "k = 100, accuracy = 0.190476\n",
      "最佳k值为10\n",
      "Got 43 / 45 correct => accuracy: 0.955556\n"
     ]
    }
   ],
   "source": [
    "import numpy as np\n",
    "from collections import Counter\n",
    "import random\n",
    "import matplotlib.pyplot as plt\n",
    "from sklearn import datasets\n",
    "from sklearn.utils import shuffle\n",
    "plt.rcParams['figure.figsize'] = (10.0, 8.0) \n",
    "plt.rcParams['image.interpolation'] = 'nearest'\n",
    "plt.rcParams['image.cmap'] = 'gray'\n",
    "class KNearestNeighbor(object):\n",
    "    def __init__(self):\n",
    "        pass\n",
    "\n",
    "    def train(self, X, y):\n",
    "        self.X_train = X\n",
    "        self.y_train = y    \n",
    "    \n",
    "    def compute_distances(self, X):\n",
    "        num_test = X.shape[0]\n",
    "        num_train = self.X_train.shape[0]\n",
    "        dists = np.zeros((num_test, num_train)) \n",
    "\n",
    "        M = np.dot(X, self.X_train.T)\n",
    "        te = np.square(X).sum(axis=1)\n",
    "        tr = np.square(self.X_train).sum(axis=1)\n",
    "        dists = np.sqrt(-2 * M + tr + np.matrix(te).T)        \n",
    "        return dists    \n",
    "        \n",
    "    def predict_labels(self, dists, k=1):\n",
    "        num_test = dists.shape[0]\n",
    "        y_pred = np.zeros(num_test)         \n",
    "        for i in range(num_test):\n",
    "            closest_y = []\n",
    "            labels = self.y_train[np.argsort(dists[i, :])].flatten()\n",
    "            closest_y = labels[0:k]\n",
    "\n",
    "            c = Counter(closest_y)\n",
    "            y_pred[i] = c.most_common(1)[0][0]        \n",
    "        return y_pred    \n",
    "        \n",
    "    def cross_validation(self, X_train, y_train):\n",
    "        num_folds = 5\n",
    "        k_choices = [1, 3, 5, 8, 10, 12, 15, 20, 50, 100]\n",
    "\n",
    "        X_train_folds = []\n",
    "        y_train_folds = []\n",
    "\n",
    "        X_train_folds = np.array_split(X_train, num_folds)\n",
    "        y_train_folds = np.array_split(y_train, num_folds)\n",
    "\n",
    "        k_to_accuracies = {}        \n",
    "        for k in k_choices:            \n",
    "            for fold in range(num_folds): \n",
    "                validation_X_test = X_train_folds[fold]\n",
    "                validation_y_test = y_train_folds[fold]\n",
    "                temp_X_train = np.concatenate(X_train_folds[:fold] + X_train_folds[fold + 1:])\n",
    "                temp_y_train = np.concatenate(y_train_folds[:fold] + y_train_folds[fold + 1:])\n",
    "\n",
    "\n",
    "                self.train(temp_X_train, temp_y_train )\n",
    "\n",
    "                temp_dists = self.compute_distances(validation_X_test)\n",
    "                temp_y_test_pred = self.predict_labels(temp_dists, k=k)\n",
    "                temp_y_test_pred = temp_y_test_pred.reshape((-1, 1))                #Checking accuracies\n",
    "                num_correct = np.sum(temp_y_test_pred == validation_y_test)\n",
    "                num_test = validation_X_test.shape[0]\n",
    "                accuracy = float(num_correct) / num_test\n",
    "                k_to_accuracies[k] = k_to_accuracies.get(k,[]) + [accuracy]        # Print out the computed accuracies\n",
    "        \n",
    "        for k in sorted(k_to_accuracies):            \n",
    "            for accuracy in k_to_accuracies[k]:\n",
    "                print('k = %d, accuracy = %f' % (k, accuracy))\n",
    "\n",
    "        accuracies_mean = np.array([np.mean(v) for k,v in sorted(k_to_accuracies.items())])\n",
    "        best_k = k_choices[np.argmax(accuracies_mean)]\n",
    "        print('最佳k值为{}'.format(best_k))        \n",
    "        \n",
    "        return best_k    \n",
    "        \n",
    "    def create_train_test(self):\n",
    "        iris=datasets.load_iris()\n",
    "        X, y = shuffle(iris.data, iris.target, random_state=13)\n",
    "        X = X.astype(np.float32)\n",
    "        y = y.reshape((-1,1))\n",
    "        offset = int(X.shape[0] * 0.7)\n",
    "        X_train, y_train = X[:offset], y[:offset]\n",
    "        X_test, y_test = X[offset:], y[offset:]\n",
    "        y_train = y_train.reshape((-1,1))\n",
    "        y_test = y_test.reshape((-1,1))        \n",
    "        return X_train, y_train, X_test, y_test\n",
    "\n",
    "\n",
    "\n",
    "if __name__ == '__main__':\n",
    "    knn_classifier = KNearestNeighbor()\n",
    "    X_train, y_train, X_test, y_test = knn_classifier.create_train_test()\n",
    "    best_k = knn_classifier.cross_validation(X_train, y_train)\n",
    "    dists = knn_classifier.compute_distances(X_test)\n",
    "    y_test_pred = knn_classifier.predict_labels(dists, k=best_k)\n",
    "    y_test_pred = y_test_pred.reshape((-1, 1))\n",
    "    num_correct = np.sum(y_test_pred == y_test)\n",
    "    accuracy = float(num_correct) / X_test.shape[0]\n",
    "    print('Got %d / %d correct => accuracy: %f' % (num_correct,X_test.shape[0],accuracy))"
   ]
  }
 ],
 "metadata": {
  "kernelspec": {
   "display_name": "Python 3",
   "language": "python",
   "name": "python3"
  },
  "language_info": {
   "codemirror_mode": {
    "name": "ipython",
    "version": 3
   },
   "file_extension": ".py",
   "mimetype": "text/x-python",
   "name": "python",
   "nbconvert_exporter": "python",
   "pygments_lexer": "ipython3",
   "version": "3.7.4"
  }
 },
 "nbformat": 4,
 "nbformat_minor": 2
}
