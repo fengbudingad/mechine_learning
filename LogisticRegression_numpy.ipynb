{
 "cells": [
  {
   "cell_type": "code",
   "execution_count": 1,
   "metadata": {},
   "outputs": [],
   "source": [
    "import numpy as py\n",
    "#定义sigmoid函数\n",
    "def sigmoid(x):\n",
    "    return 1/(1+np.exp(-x))"
   ]
  },
  {
   "cell_type": "code",
   "execution_count": 3,
   "metadata": {},
   "outputs": [],
   "source": [
    "def initialize(dims):\n",
    "    w=np.zeros((dims,1))\n",
    "    b=0\n",
    "    return w,b"
   ]
  },
  {
   "cell_type": "code",
   "execution_count": 14,
   "metadata": {},
   "outputs": [],
   "source": [
    "def logistic(X,y,W,b):\n",
    "    num_train=X.shape[0]\n",
    "    num_feature=X.shape[1]\n",
    "    \n",
    "    y_hat=sigmoid(np.dot(X,W)+b)\n",
    "    cost=-1/num_train*np.sum(y*np.log(y_hat)+(1-y)*np.log(1-y_hat))\n",
    "    \n",
    "    dW=np.dot(X.T,y_hat-y)/num_train\n",
    "    db=np.sum(y_hat-y)/num_train\n",
    "    cost=np.squeeze(cost)\n",
    "    \n",
    "    return y_hat,cost,dW,db"
   ]
  },
  {
   "cell_type": "code",
   "execution_count": 23,
   "metadata": {},
   "outputs": [],
   "source": [
    "def logistic_train(X,y,learning_rate,epochs):\n",
    "    W,b=initialize(X.shape[1])\n",
    "    cost_list=[]\n",
    "    \n",
    "    for i in range(epochs):\n",
    "        y_hat,cost,dW,db=logistic(X,y,W,b)\n",
    "        W-=dW*learning_rate\n",
    "        b-=db*learning_rate\n",
    "        \n",
    "        if i%100==0:\n",
    "            cost_list.append(cost)\n",
    "            print(\"epoch %d :cost %f\"%(i,cost))\n",
    "        \n",
    "    para={'W':W,'b':b}\n",
    "    grads={'dW':dW,'db':db}\n",
    "    \n",
    "    return cost_list,para,grads"
   ]
  },
  {
   "cell_type": "code",
   "execution_count": 27,
   "metadata": {},
   "outputs": [],
   "source": [
    "def predict(X,para):\n",
    "    y_prediction=sigmoid(np.dot(X,para['W'])+para['b'])\n",
    "    for i in range(len(y_prediction)):\n",
    "        if y_prediction[i]>0.5:\n",
    "            y_prediction[i]=1\n",
    "        else:\n",
    "            y_prediction[i]=0\n",
    "    return y_prediction"
   ]
  },
  {
   "cell_type": "code",
   "execution_count": 17,
   "metadata": {},
   "outputs": [],
   "source": [
    "#使用sklearn生成模拟的二分类数据集进行模型训练和测试\n",
    "import matplotlib.pyplot as plt\n",
    "from sklearn.datasets.samples_generator import make_classification\n",
    "X,labels=make_classification(n_samples=100,n_features=2,n_redundant=0,n_informative=2,random_state=1,n_clusters_per_class=2)"
   ]
  },
  {
   "cell_type": "code",
   "execution_count": 18,
   "metadata": {},
   "outputs": [
    {
     "name": "stdout",
     "output_type": "stream",
     "text": [
      "X_train= (90, 2)\n",
      "X_test= (10, 2)\n",
      "y_train= (90, 1)\n",
      "y_test= (90, 1)\n"
     ]
    }
   ],
   "source": [
    "offset=int(X.shape[0]*0.9)\n",
    "X_train,y_train=X[:offset],labels[:offset]\n",
    "X_test,y_test=X[offset:],labels[:offset]\n",
    "y_train=y_train.reshape((-1,1))\n",
    "y_test=y_test.reshape((-1,1))\n",
    "\n",
    "print('X_train=',X_train.shape)\n",
    "print('X_test=',X_test.shape)\n",
    "print('y_train=',y_train.shape)\n",
    "print('y_test=',y_test.shape)"
   ]
  },
  {
   "cell_type": "code",
   "execution_count": 25,
   "metadata": {},
   "outputs": [
    {
     "name": "stdout",
     "output_type": "stream",
     "text": [
      "epoch 0 :cost 0.693147\n",
      "epoch 100 :cost 0.416158\n",
      "epoch 200 :cost 0.300512\n",
      "epoch 300 :cost 0.240201\n",
      "epoch 400 :cost 0.203590\n",
      "epoch 500 :cost 0.179055\n",
      "epoch 600 :cost 0.161463\n",
      "epoch 700 :cost 0.148217\n",
      "epoch 800 :cost 0.137871\n",
      "epoch 900 :cost 0.129556\n"
     ]
    }
   ],
   "source": [
    "cost_list,para,grads=logistic_train(X_train,y_train,0.02,1000)"
   ]
  },
  {
   "cell_type": "code",
   "execution_count": 28,
   "metadata": {},
   "outputs": [
    {
     "name": "stdout",
     "output_type": "stream",
     "text": [
      "[[0.]\n",
      " [1.]\n",
      " [1.]\n",
      " [0.]\n",
      " [1.]\n",
      " [1.]\n",
      " [0.]\n",
      " [0.]\n",
      " [1.]\n",
      " [0.]]\n"
     ]
    }
   ],
   "source": [
    "#对测试集进行验证\n",
    "y_prediction=predict(X_test,para)\n",
    "print(y_prediction)"
   ]
  },
  {
   "cell_type": "code",
   "execution_count": 30,
   "metadata": {},
   "outputs": [
    {
     "data": {
      "image/png": "[encoded data removed]",
      "text/plain": [
       "<Figure size 432x288 with 1 Axes>"
      ]
     },
     "metadata": {
      "needs_background": "light"
     },
     "output_type": "display_data"
    }
   ],
   "source": [
    "#将结果可视化\n",
    "def plot_logistic(X_train,y_train,para):\n",
    "    n=X_train.shape[0]\n",
    "    xcord1=[]\n",
    "    xcord0=[]\n",
    "    ycord1=[]\n",
    "    ycord0=[]\n",
    "    for i in range(n):\n",
    "        if y_train[i]==1:\n",
    "            xcord1.append(X_train[i][0])\n",
    "            ycord1.append(X_train[i][1])\n",
    "        else:\n",
    "            xcord0.append(X_train[i][0])\n",
    "            ycord0.append(X_train[i][1])\n",
    "            \n",
    "    fig=plt.figure()\n",
    "    ax=fig.add_subplot(111)\n",
    "    ax.scatter(xcord1,ycord1,s=32,c='red')\n",
    "    ax.scatter(xcord0,ycord0,s=32,c='blue')\n",
    "    x=np.arange(-1.5,3,0.1)\n",
    "    y=(-para['b']-para['W'][0]*x)/para['W'][1]\n",
    "    ax.plot(x,y)\n",
    "    plt.xlabel('X1')\n",
    "    plt.ylabel('X2')\n",
    "    plt.show()\n",
    "    \n",
    "plot_logistic(X_train,y_train,para)"
   ]
  },
  {
   "cell_type": "code",
   "execution_count": 34,
   "metadata": {},
   "outputs": [
    {
     "name": "stdout",
     "output_type": "stream",
     "text": [
      "(90, 2) (90, 1) (10, 2) (10, 1)\n",
      "epoch 0 cost 0.693147\n",
      "epoch 100 cost 0.521480\n",
      "epoch 200 cost 0.416359\n",
      "epoch 300 cost 0.347951\n",
      "epoch 400 cost 0.300680\n",
      "epoch 500 cost 0.266327\n",
      "epoch 600 cost 0.240328\n",
      "epoch 700 cost 0.220002\n",
      "epoch 800 cost 0.203687\n",
      "epoch 900 cost 0.190306\n",
      "{'W': array([[ 2.04608084],\n",
      "       [-0.03964634]]), 'b': 0.12335926234285087}\n",
      "train accuracy is: 0.9666666666666667\n",
      "test accuracy is: 1.0\n"
     ]
    },
    {
     "data": {
      "image/png": "[encoded data removed]",
      "text/plain": [
       "<Figure size 432x288 with 1 Axes>"
      ]
     },
     "metadata": {
      "needs_background": "light"
     },
     "output_type": "display_data"
    }
   ],
   "source": [
    "#封装成类\n",
    "import numpy as np\n",
    "import matplotlib.pyplot as plt\n",
    "from sklearn.datasets.samples_generator import make_classification\n",
    "\n",
    "class logistic_regression():    \n",
    "    def __init__(self):        \n",
    "        pass\n",
    "\n",
    "    def sigmoid(self, x):\n",
    "        z = 1 / (1 + np.exp(-x))        \n",
    "        return z    \n",
    "        \n",
    "    def initialize_params(self, dims):\n",
    "        W = np.zeros((dims, 1))\n",
    "        b = 0\n",
    "        return W, b    \n",
    "    \n",
    "    def logistic(self, X, y, W, b):\n",
    "        num_train = X.shape[0]\n",
    "        num_feature = X.shape[1]\n",
    "\n",
    "        y_hat = self.sigmoid(np.dot(X, W) + b)\n",
    "        cost = -1 / num_train * np.sum(y * np.log(y_hat) + (1 - y) * np.log(1 - y_hat))\n",
    "\n",
    "        dW = np.dot(X.T, (y_hat - y)) / num_train\n",
    "        db = np.sum(y_hat - y) / num_train\n",
    "        cost = np.squeeze(cost)        \n",
    "        return y_hat, cost, dW, db    \n",
    "        \n",
    "    def logistic_train(self, X, y, learning_rate, epochs):\n",
    "        W, b = self.initialize_params(X.shape[1])\n",
    "        cost_list = []        \n",
    "        for i in range(epochs):\n",
    "            y_hat, cost, dW, db = self.logistic(X, y, W, b)\n",
    "            W = W - learning_rate * dW\n",
    "            b = b - learning_rate * db            \n",
    "            if i % 100 == 0:\n",
    "                cost_list.append(cost)            \n",
    "            if i % 100 == 0:\n",
    "                print('epoch %d cost %f' % (i, cost))\n",
    "\n",
    "        params = {\n",
    "            'W': W, \n",
    "            'b': b\n",
    "        }\n",
    "        grads = {            \n",
    "            'dW': dW,            \n",
    "            'db': db\n",
    "        }        \n",
    "        \n",
    "        return cost_list, params, grads    \n",
    "        \n",
    "    def predict(self, X, params):\n",
    "        y_prediction = self.sigmoid(np.dot(X, params['W']) + params['b'])        \n",
    "        for i in range(len(y_prediction)):            \n",
    "            if y_prediction[i] > 0.5:\n",
    "                y_prediction[i] = 1\n",
    "            else:\n",
    "                y_prediction[i] = 0\n",
    "\n",
    "        return y_prediction    \n",
    "            \n",
    "    def accuracy(self, y_test, y_pred):\n",
    "        correct_count = 0\n",
    "        for i in range(len(y_test)):            \n",
    "            for j in range(len(y_pred)):                \n",
    "                if y_test[i] == y_pred[j] and i == j:\n",
    "                    correct_count += 1\n",
    "\n",
    "        accuracy_score = correct_count / len(y_test)        \n",
    "        return accuracy_score    \n",
    "        \n",
    "    def create_data(self):\n",
    "        X, labels = make_classification(n_samples=100, n_features=2, n_redundant=0, n_informative=2, random_state=1, n_clusters_per_class=2)\n",
    "        labels = labels.reshape((-1, 1))\n",
    "        offset = int(X.shape[0] * 0.9)\n",
    "        X_train, y_train = X[:offset], labels[:offset]\n",
    "        X_test, y_test = X[offset:], labels[offset:]        \n",
    "        return X_train, y_train, X_test, y_test    \n",
    "        \n",
    "    def plot_logistic(self, X_train, y_train, params):\n",
    "        n = X_train.shape[0]\n",
    "        xcord1 = []\n",
    "        ycord1 = []\n",
    "        xcord2 = []\n",
    "        ycord2 = []        \n",
    "        for i in range(n):            \n",
    "            if y_train[i] == 1:\n",
    "                xcord1.append(X_train[i][0])\n",
    "                ycord1.append(X_train[i][1])            \n",
    "            else:\n",
    "                xcord2.append(X_train[i][0])\n",
    "                ycord2.append(X_train[i][1])\n",
    "        fig = plt.figure()\n",
    "        ax = fig.add_subplot(111)\n",
    "        ax.scatter(xcord1, ycord1, s=32, c='red')\n",
    "        ax.scatter(xcord2, ycord2, s=32, c='blue')\n",
    "        x = np.arange(-1.5, 3, 0.1)\n",
    "        y = (-params['b'] - params['W'][0] * x) / params['W'][1]\n",
    "        ax.plot(x, y)\n",
    "        plt.xlabel('X1')\n",
    "        plt.ylabel('X2')\n",
    "        plt.show()\n",
    "\n",
    "            \n",
    "if __name__ == \"__main__\":\n",
    "    model = logistic_regression()\n",
    "    X_train, y_train, X_test, y_test = model.create_data()\n",
    "    print(X_train.shape, y_train.shape, X_test.shape, y_test.shape)\n",
    "    cost_list, params, grads = model.logistic_train(X_train, y_train, 0.01, 1000)\n",
    "    print(params)\n",
    "    y_train_pred = model.predict(X_train, params)\n",
    "    accuracy_score_train = model.accuracy(y_train, y_train_pred)\n",
    "    print('train accuracy is:', accuracy_score_train)\n",
    "    y_test_pred = model.predict(X_test, params)\n",
    "    accuracy_score_test = model.accuracy(y_test, y_test_pred)\n",
    "    print('test accuracy is:', accuracy_score_test)\n",
    "    model.plot_logistic(X_train, y_train, params)\n"
   ]
  }
 ],
 "metadata": {
  "kernelspec": {
   "display_name": "Python 3",
   "language": "python",
   "name": "python3"
  },
  "language_info": {
   "codemirror_mode": {
    "name": "ipython",
    "version": 3
   },
   "file_extension": ".py",
   "mimetype": "text/x-python",
   "name": "python",
   "nbconvert_exporter": "python",
   "pygments_lexer": "ipython3",
   "version": "3.7.4"
  }
 },
 "nbformat": 4,
 "nbformat_minor": 2
}
