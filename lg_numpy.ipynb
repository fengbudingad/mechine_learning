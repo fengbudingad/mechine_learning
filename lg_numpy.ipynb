{
 "cells": [
  {
   "cell_type": "code",
   "execution_count": 26,
   "metadata": {},
   "outputs": [],
   "source": [
    "import numpy as np\n",
    "#计算损失函数，求偏导\n",
    "def linear_loss(X,y,w,b):\n",
    "    num_train=X.shape[0]\n",
    "    num_feature=X.shape[1]\n",
    "    #当前权重y值\n",
    "    y_hat=np.dot(X,w)+b\n",
    "    #损失函数\n",
    "    loss=np.sum((y-y_hat)**2)/num_train\n",
    "    dw=2*np.dot(X.T,y_hat-y)/num_train\n",
    "    db=2*np.sum(y_hat-y)/num_train\n",
    "    return y_hat,loss,dw,db"
   ]
  },
  {
   "cell_type": "code",
   "execution_count": 23,
   "metadata": {},
   "outputs": [],
   "source": [
    "def initialize_para(dims):\n",
    "    w=np.zeros((dims,1))\n",
    "    b=0\n",
    "    return w,b"
   ]
  },
  {
   "cell_type": "code",
   "execution_count": 34,
   "metadata": {},
   "outputs": [],
   "source": [
    "def linear_train(X,y,learning_rate,epochs):\n",
    "    w,b=initialize_para(X.shape[1])\n",
    "    loss_list=[]\n",
    "    for i in range(1,epochs):\n",
    "        y_hat,loss,dw,db=linear_loss(X,y,w,b)\n",
    "        loss_list.append(loss)\n",
    "        w=w-learning_rate*dw\n",
    "        b=b-learning_rate*db\n",
    "        \n",
    "        if i%1000==0:\n",
    "            print('epoch %d:loss %f'%(i,loss))\n",
    "            \n",
    "        para={'w':w,'b':b}\n",
    "        grad={'dw':dw,'db':db}\n",
    "        \n",
    "    return loss_list,loss,para,grad"
   ]
  },
  {
   "cell_type": "code",
   "execution_count": 20,
   "metadata": {},
   "outputs": [
    {
     "name": "stdout",
     "output_type": "stream",
     "text": [
      "X_train= (397, 10)\n",
      "X_test= (45, 10)\n",
      "y_train= (397, 1)\n",
      "y_test= (397, 1)\n"
     ]
    }
   ],
   "source": [
    "from sklearn.datasets import load_diabetes\n",
    "from sklearn.utils import shuffle\n",
    "\n",
    "diabetes=load_diabetes()\n",
    "data=diabetes.data\n",
    "target=diabetes.target\n",
    "\n",
    "X,y=shuffle(data,target,random_state=13)\n",
    "X=X.astype(np.float32)\n",
    "\n",
    "offset=int(X.shape[0]*0.9)\n",
    "X_train,y_train=X[:offset],y[:offset]\n",
    "X_test,y_test=X[offset:],y[:offset]\n",
    "y_train=y_train.reshape((-1,1))\n",
    "y_test=y_test.reshape((-1,1))\n",
    "\n",
    "print('X_train=',X_train.shape)\n",
    "print('X_test=',X_test.shape)\n",
    "print('y_train=',y_train.shape)\n",
    "print('y_test=',y_test.shape)"
   ]
  },
  {
   "cell_type": "code",
   "execution_count": 39,
   "metadata": {},
   "outputs": [
    {
     "name": "stdout",
     "output_type": "stream",
     "text": [
      "epoch 100:loss 4384356.028970\n",
      "epoch 200:loss 2919610.057879\n",
      "epoch 300:loss 2671573.489974\n",
      "epoch 400:loss 2629571.572759\n",
      "epoch 500:loss 2622459.068887\n",
      "epoch 600:loss 2621254.654549\n",
      "epoch 700:loss 2621050.701915\n",
      "epoch 800:loss 2621016.165065\n",
      "epoch 900:loss 2621010.316678\n"
     ]
    }
   ],
   "source": [
    "loss_list,loss,para,grad=linear_train(X,y,0.00001,1000)"
   ]
  },
  {
   "cell_type": "code",
   "execution_count": 43,
   "metadata": {},
   "outputs": [
    {
     "data": {
      "text/plain": [
       "[<matplotlib.lines.Line2D at 0x1a64ad6c088>]"
      ]
     },
     "execution_count": 43,
     "metadata": {},
     "output_type": "execute_result"
    },
    {
     "data": {
      "image/png": "[encoded data removed]",
      "text/plain": [
       "<Figure size 432x288 with 1 Axes>"
      ]
     },
     "metadata": {
      "needs_background": "light"
     },
     "output_type": "display_data"
    }
   ],
   "source": [
    "import matplotlib.pyplot as plt\n",
    "plt.plot(loss_list,color='blue')"
   ]
  },
  {
   "cell_type": "code",
   "execution_count": 73,
   "metadata": {},
   "outputs": [
    {
     "name": "stdout",
     "output_type": "stream",
     "text": [
      "five cross validation score is  21325.63\n",
      "valid score is  22248.8\n",
      "five cross validation score is  21477.31\n",
      "valid score is  21356.25\n",
      "five cross validation score is  21655.83\n",
      "valid score is  20170.26\n",
      "five cross validation score is  21422.85\n",
      "valid score is  21516.97\n",
      "five cross validation score is  21395.85\n",
      "valid score is  21922.08\n",
      "five cross validation score is  21410.52\n",
      "valid score is  21450.85\n"
     ]
    }
   ],
   "source": [
    "import numpy as np\n",
    "from sklearn.utils import shuffle\n",
    "from sklearn.datasets import load_diabetes\n",
    "\n",
    "class lr_model():\n",
    "    def __init__(self):\n",
    "        pass\n",
    "    \n",
    "    def prepare_data(self):\n",
    "        diabetes=load_diabetes()\n",
    "        data=diabetes.data\n",
    "        target=diabetes.target\n",
    "        X,y=shuffle(data,target,random_state=13)\n",
    "        X=X.astype(np.float32)\n",
    "        y=y.reshape((-1,1))\n",
    "        data=np.concatenate((X,y),axis=1)\n",
    "        return data\n",
    "    \n",
    "    def initialize_para(self,dims):\n",
    "        w=np.zeros((dims,1))\n",
    "        b=0\n",
    "        return w,b\n",
    "    \n",
    "    def linear_loss(self,X,y,w,b):\n",
    "        num_train=X.shape[0]\n",
    "        num_feature=X.shape[1]\n",
    "        #当前权重y值\n",
    "        y_hat=np.dot(X,w)+b\n",
    "        #损失函数\n",
    "        loss=np.sum((y-y_hat)**2)/num_train\n",
    "        dw=2*np.dot(X.T,y_hat-y)/num_train\n",
    "        db=2*np.sum(y_hat-y)/num_train\n",
    "        return y_hat,loss,dw,db\n",
    "    \n",
    "    \n",
    "    def linear_train(self,X,y,learning_rate,epochs):\n",
    "        w,b=initialize_para(X.shape[1])\n",
    "        for i in range(1,epochs):\n",
    "            y_hat,loss,dw,db=linear_loss(X,y,w,b)\n",
    "            w=w-learning_rate*dw\n",
    "            b=b-learning_rate*db\n",
    "\n",
    "            if i%1000==0:\n",
    "                print('epoch %d:loss %f'%(i,loss))\n",
    "\n",
    "            para={'w':w,'b':b}\n",
    "            grad={'dw':dw,'db':db}\n",
    "\n",
    "        return loss,para,grad\n",
    "    \n",
    "    def predict(self,X,para):\n",
    "        w=para['w']\n",
    "        b=para['b']\n",
    "        y_pred=np.dot(X,w)+b\n",
    "        return y_pred\n",
    "    \n",
    "    def linear_cross_validation(self,data,k,randomize=True):\n",
    "        if randomize:\n",
    "            shuffle(data)\n",
    "        slices=[data[i::k] for i in range(k)]\n",
    "        for i in range(k):\n",
    "            validation=slices[i]\n",
    "            train=[data for s in slices if s is not validation for data in s]\n",
    "            train=np.array(train)\n",
    "            validation=np.array(validation)\n",
    "            yield train,validation\n",
    "            \n",
    "if __name__=='__main__':\n",
    "    lr=lr_model()\n",
    "    data=lr.prepare_data()\n",
    "    \n",
    "    for train,validation in lr.linear_cross_validation(data,6):\n",
    "        X_train=train[:,:10]\n",
    "        y_train=train[:,-1].reshape((-1,1))\n",
    "        X_valid=validation[:,:10]\n",
    "        y_valid=validation[:,-1].reshape((-1,1))\n",
    "        \n",
    "        loss5=[]\n",
    "        loss,para,grad=lr.linear_train(X_train,y_train,0.0001,1000)\n",
    "        loss5.append(loss)\n",
    "        score=np.mean(loss5)\n",
    "        print('6 cross validation score is ',score.round(2))\n",
    "        y_pred=lr.predict(X_valid,para)\n",
    "        valid_score=np.sum((y_pred-y_valid)**2)/len(X_valid)\n",
    "        print('valid score is ',valid_score.round(2))"
   ]
  }
 ],
 "metadata": {
  "kernelspec": {
   "display_name": "Python 3",
   "language": "python",
   "name": "python3"
  },
  "language_info": {
   "codemirror_mode": {
    "name": "ipython",
    "version": 3
   },
   "file_extension": ".py",
   "mimetype": "text/x-python",
   "name": "python",
   "nbconvert_exporter": "python",
   "pygments_lexer": "ipython3",
   "version": "3.7.4"
  }
 },
 "nbformat": 4,
 "nbformat_minor": 2
}
